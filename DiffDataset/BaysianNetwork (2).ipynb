{
  "nbformat": 4,
  "nbformat_minor": 0,
  "metadata": {
    "colab": {
      "name": "BaysianNetwork.ipynb",
      "provenance": [],
      "collapsed_sections": []
    },
    "kernelspec": {
      "name": "python3",
      "display_name": "Python 3"
    },
    "language_info": {
      "name": "python"
    }
  },
  "cells": [
    {
      "cell_type": "markdown",
      "metadata": {
        "id": "ME7pA8axCTAL"
      },
      "source": [
        "Arpana M Ramaswamy 1BM18CS147"
      ]
    },
    {
      "cell_type": "code",
      "metadata": {
        "colab": {
          "base_uri": "https://localhost:8080/"
        },
        "id": "W0jxQ2X27WqB",
        "outputId": "039b34a1-f0ad-4aa3-c9a7-567ddf39b554"
      },
      "source": [
        "!pip install pgmpy"
      ],
      "execution_count": 2,
      "outputs": [
        {
          "output_type": "stream",
          "text": [
            "Requirement already satisfied: pgmpy in /usr/local/lib/python3.7/dist-packages (0.1.14)\n",
            "Requirement already satisfied: numpy in /usr/local/lib/python3.7/dist-packages (from pgmpy) (1.19.5)\n",
            "Requirement already satisfied: pandas in /usr/local/lib/python3.7/dist-packages (from pgmpy) (1.1.5)\n",
            "Requirement already satisfied: pyparsing in /usr/local/lib/python3.7/dist-packages (from pgmpy) (2.4.7)\n",
            "Requirement already satisfied: joblib in /usr/local/lib/python3.7/dist-packages (from pgmpy) (1.0.1)\n",
            "Requirement already satisfied: scipy in /usr/local/lib/python3.7/dist-packages (from pgmpy) (1.4.1)\n",
            "Requirement already satisfied: tqdm in /usr/local/lib/python3.7/dist-packages (from pgmpy) (4.41.1)\n",
            "Requirement already satisfied: torch in /usr/local/lib/python3.7/dist-packages (from pgmpy) (1.8.1+cu101)\n",
            "Requirement already satisfied: networkx in /usr/local/lib/python3.7/dist-packages (from pgmpy) (2.5.1)\n",
            "Requirement already satisfied: statsmodels in /usr/local/lib/python3.7/dist-packages (from pgmpy) (0.10.2)\n",
            "Requirement already satisfied: scikit-learn in /usr/local/lib/python3.7/dist-packages (from pgmpy) (0.22.2.post1)\n",
            "Requirement already satisfied: pytz>=2017.2 in /usr/local/lib/python3.7/dist-packages (from pandas->pgmpy) (2018.9)\n",
            "Requirement already satisfied: python-dateutil>=2.7.3 in /usr/local/lib/python3.7/dist-packages (from pandas->pgmpy) (2.8.1)\n",
            "Requirement already satisfied: typing-extensions in /usr/local/lib/python3.7/dist-packages (from torch->pgmpy) (3.7.4.3)\n",
            "Requirement already satisfied: decorator<5,>=4.3 in /usr/local/lib/python3.7/dist-packages (from networkx->pgmpy) (4.4.2)\n",
            "Requirement already satisfied: patsy>=0.4.0 in /usr/local/lib/python3.7/dist-packages (from statsmodels->pgmpy) (0.5.1)\n",
            "Requirement already satisfied: six>=1.5 in /usr/local/lib/python3.7/dist-packages (from python-dateutil>=2.7.3->pandas->pgmpy) (1.15.0)\n"
          ],
          "name": "stdout"
        }
      ]
    },
    {
      "cell_type": "code",
      "metadata": {
        "id": "dJMmq5Rg7cvU"
      },
      "source": [
        "import numpy as np\n",
        "import pandas as pd\n",
        "import csv \n",
        "from pgmpy.estimators import MaximumLikelihoodEstimator\n",
        "from pgmpy.models import BayesianModel\n",
        "from pgmpy.inference import VariableElimination"
      ],
      "execution_count": 8,
      "outputs": []
    },
    {
      "cell_type": "code",
      "metadata": {
        "colab": {
          "base_uri": "https://localhost:8080/"
        },
        "id": "nJibem0i7uYW",
        "outputId": "d9bfc062-42e9-4c45-b145-69e2e840652b"
      },
      "source": [
        "data = pd.read_csv('/content/Diabeteset.csv')\n",
        "data = data.replace('?',np.nan)\n",
        "\n",
        "print('Sample instances from the dataset are given below')\n",
        "print(data.head())\n",
        "\n",
        "print('\\n Attributes and datatypes')\n",
        "print(data.dtypes)"
      ],
      "execution_count": 9,
      "outputs": [
        {
          "output_type": "stream",
          "text": [
            "Sample instances from the dataset are given below\n",
            "   Pregnancies  Glucose  BloodPressure  ...  DiabetesPedigreeFunction  Age  Result\n",
            "0            7      100              0  ...                     0.484   32       1\n",
            "1           10      122             78  ...                     0.512   45       0\n",
            "2            1       85             66  ...                     0.351   31       0\n",
            "3            5      166             72  ...                     0.587   51       1\n",
            "4            5      116             74  ...                     0.201   30       0\n",
            "\n",
            "[5 rows x 9 columns]\n",
            "\n",
            " Attributes and datatypes\n",
            "Pregnancies                   int64\n",
            "Glucose                       int64\n",
            "BloodPressure                 int64\n",
            "SkinThickness                 int64\n",
            "Insulin                       int64\n",
            "BMI                         float64\n",
            "DiabetesPedigreeFunction    float64\n",
            "Age                           int64\n",
            "Result                        int64\n",
            "dtype: object\n"
          ],
          "name": "stdout"
        }
      ]
    },
    {
      "cell_type": "code",
      "metadata": {
        "colab": {
          "base_uri": "https://localhost:8080/"
        },
        "id": "TE7_kPpU8QA1",
        "outputId": "849c9149-fd9a-4787-c846-076bcf044d81"
      },
      "source": [
        "model= BayesianModel([(\"Pregnancies\", \"Result\"),(\"Glucose\", \"Result\"),(\"Age\", \"Result\")])\n",
        "print('\\nLearning CPD using Maximum likelihood estimators')\n",
        "model.fit(data,estimator=MaximumLikelihoodEstimator)"
      ],
      "execution_count": 10,
      "outputs": [
        {
          "output_type": "stream",
          "text": [
            "\n",
            "Learning CPD using Maximum likelihood estimators\n"
          ],
          "name": "stdout"
        }
      ]
    },
    {
      "cell_type": "code",
      "metadata": {
        "colab": {
          "base_uri": "https://localhost:8080/"
        },
        "id": "xZRsvm9C8Vtl",
        "outputId": "ed136260-838a-4f2b-e3d0-bdc47bce8fbe"
      },
      "source": [
        "print('\\n Inferencing with Bayesian Network:')\n",
        "datast_infer = VariableElimination(model)\n",
        "\n",
        "print('\\n 1. Probability given evidence as Glucose')\n",
        "q1=datast_infer.query(variables=['Result'],evidence={'Glucose':100})\n",
        "print(q1)\n",
        "\n",
        "print('\\n 2. Probability given evidence as Age ')\n",
        "q2=datast_infer.query(variables=['Result'],evidence={'Age':30})\n",
        "print(q2)"
      ],
      "execution_count": 11,
      "outputs": [
        {
          "output_type": "stream",
          "text": [
            "Finding Elimination Order: : 100%|██████████| 2/2 [00:00<00:00, 170.27it/s]\n",
            "Eliminating: Pregnancies: 100%|██████████| 2/2 [00:00<00:00, 179.19it/s]\n",
            "Finding Elimination Order: : 100%|██████████| 2/2 [00:00<00:00, 174.24it/s]\n",
            "Eliminating: Pregnancies: 100%|██████████| 2/2 [00:00<00:00, 188.13it/s]"
          ],
          "name": "stderr"
        },
        {
          "output_type": "stream",
          "text": [
            "\n",
            " Inferencing with Bayesian Network:\n",
            "\n",
            " 1. Probability given evidence as Glucose\n",
            "+-----------+---------------+\n",
            "| Result    |   phi(Result) |\n",
            "+===========+===============+\n",
            "| Result(0) |        0.4950 |\n",
            "+-----------+---------------+\n",
            "| Result(1) |        0.5050 |\n",
            "+-----------+---------------+\n",
            "\n",
            " 2. Probability given evidence as Age \n",
            "+-----------+---------------+\n",
            "| Result    |   phi(Result) |\n",
            "+===========+===============+\n",
            "| Result(0) |        0.5100 |\n",
            "+-----------+---------------+\n",
            "| Result(1) |        0.4900 |\n",
            "+-----------+---------------+\n"
          ],
          "name": "stdout"
        },
        {
          "output_type": "stream",
          "text": [
            "\n"
          ],
          "name": "stderr"
        }
      ]
    }
  ]
}