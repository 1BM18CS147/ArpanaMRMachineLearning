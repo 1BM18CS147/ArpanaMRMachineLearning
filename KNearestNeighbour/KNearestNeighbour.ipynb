{
  "nbformat": 4,
  "nbformat_minor": 0,
  "metadata": {
    "colab": {
      "name": "KNearestNeighbour.ipynb",
      "provenance": []
    },
    "kernelspec": {
      "name": "python3",
      "display_name": "Python 3"
    },
    "language_info": {
      "name": "python"
    }
  },
  "cells": [
    {
      "cell_type": "markdown",
      "metadata": {
        "id": "qgNiscpQwPaM"
      },
      "source": [
        "Arpana M Ramaswamy 1BM18CS147 K Nearest Neighbour"
      ]
    },
    {
      "cell_type": "code",
      "metadata": {
        "id": "th0TIFcAwI5i"
      },
      "source": [
        "from sklearn.datasets import load_iris\n",
        "from sklearn.neighbors import KNeighborsClassifier\n",
        "import numpy as np\n",
        "from sklearn.model_selection import train_test_split\n",
        "from sklearn.metrics import confusion_matrix\n",
        "from sklearn.metrics import accuracy_score\n",
        "from sklearn.metrics import classification_report"
      ],
      "execution_count": null,
      "outputs": []
    },
    {
      "cell_type": "code",
      "metadata": {
        "colab": {
          "base_uri": "https://localhost:8080/"
        },
        "id": "Xa14Iv2wwjvA",
        "outputId": "c2bab769-d71e-4cf3-d61c-ad641ccc3ac8"
      },
      "source": [
        "iris_dataset=load_iris()\n",
        "print(\"\\n Iris Target Names: \\t\", iris_dataset.target_names)"
      ],
      "execution_count": null,
      "outputs": [
        {
          "output_type": "stream",
          "text": [
            "\n",
            " Iris Target Names: \t ['setosa' 'versicolor' 'virginica']\n"
          ],
          "name": "stdout"
        }
      ]
    },
    {
      "cell_type": "code",
      "metadata": {
        "colab": {
          "base_uri": "https://localhost:8080/"
        },
        "id": "8uOGMCn0xM_C",
        "outputId": "ab3e030e-a6e2-463b-c02a-86dc3b9e2f7c"
      },
      "source": [
        "X_train, X_test, y_train, y_test = train_test_split(iris_dataset[\"data\"], iris_dataset[\"target\"], random_state=0)\n",
        "knn=KNeighborsClassifier(n_neighbors=3)\n",
        "knn.fit(X_train, y_train)"
      ],
      "execution_count": null,
      "outputs": [
        {
          "output_type": "execute_result",
          "data": {
            "text/plain": [
              "KNeighborsClassifier(algorithm='auto', leaf_size=30, metric='minkowski',\n",
              "                     metric_params=None, n_jobs=None, n_neighbors=3, p=2,\n",
              "                     weights='uniform')"
            ]
          },
          "metadata": {
            "tags": []
          },
          "execution_count": 16
        }
      ]
    },
    {
      "cell_type": "code",
      "metadata": {
        "colab": {
          "base_uri": "https://localhost:8080/"
        },
        "id": "VQelVvbPx1r4",
        "outputId": "e2ac07a8-8351-4c56-cb79-083bf28fa5d1"
      },
      "source": [
        "for i in range(len(X_test)):\n",
        "    x = X_test[i]\n",
        "    #print(\"x \",x)\n",
        "    x_new = np.array([x])\n",
        "    #print(x_new)\n",
        "    prediction = knn.predict(x_new)\n",
        "\n",
        "    print(\"\\n Actual : {0} {1}, Predicted :{2}{3}\".format(y_test[i],iris_dataset[\"target_names\"][y_test[i]],prediction,iris_dataset[\"target_names\"][prediction]))"
      ],
      "execution_count": null,
      "outputs": [
        {
          "output_type": "stream",
          "text": [
            "\n",
            " Actual : 2 virginica, Predicted :[2]['virginica']\n",
            "\n",
            " Actual : 1 versicolor, Predicted :[1]['versicolor']\n",
            "\n",
            " Actual : 0 setosa, Predicted :[0]['setosa']\n",
            "\n",
            " Actual : 2 virginica, Predicted :[2]['virginica']\n",
            "\n",
            " Actual : 0 setosa, Predicted :[0]['setosa']\n",
            "\n",
            " Actual : 2 virginica, Predicted :[2]['virginica']\n",
            "\n",
            " Actual : 0 setosa, Predicted :[0]['setosa']\n",
            "\n",
            " Actual : 1 versicolor, Predicted :[1]['versicolor']\n",
            "\n",
            " Actual : 1 versicolor, Predicted :[1]['versicolor']\n",
            "\n",
            " Actual : 1 versicolor, Predicted :[1]['versicolor']\n",
            "\n",
            " Actual : 2 virginica, Predicted :[2]['virginica']\n",
            "\n",
            " Actual : 1 versicolor, Predicted :[1]['versicolor']\n",
            "\n",
            " Actual : 1 versicolor, Predicted :[1]['versicolor']\n",
            "\n",
            " Actual : 1 versicolor, Predicted :[1]['versicolor']\n",
            "\n",
            " Actual : 1 versicolor, Predicted :[1]['versicolor']\n",
            "\n",
            " Actual : 0 setosa, Predicted :[0]['setosa']\n",
            "\n",
            " Actual : 1 versicolor, Predicted :[1]['versicolor']\n",
            "\n",
            " Actual : 1 versicolor, Predicted :[1]['versicolor']\n",
            "\n",
            " Actual : 0 setosa, Predicted :[0]['setosa']\n",
            "\n",
            " Actual : 0 setosa, Predicted :[0]['setosa']\n",
            "\n",
            " Actual : 2 virginica, Predicted :[2]['virginica']\n",
            "\n",
            " Actual : 1 versicolor, Predicted :[1]['versicolor']\n",
            "\n",
            " Actual : 0 setosa, Predicted :[0]['setosa']\n",
            "\n",
            " Actual : 0 setosa, Predicted :[0]['setosa']\n",
            "\n",
            " Actual : 2 virginica, Predicted :[2]['virginica']\n",
            "\n",
            " Actual : 0 setosa, Predicted :[0]['setosa']\n",
            "\n",
            " Actual : 0 setosa, Predicted :[0]['setosa']\n",
            "\n",
            " Actual : 1 versicolor, Predicted :[1]['versicolor']\n",
            "\n",
            " Actual : 1 versicolor, Predicted :[1]['versicolor']\n",
            "\n",
            " Actual : 0 setosa, Predicted :[0]['setosa']\n",
            "\n",
            " Actual : 2 virginica, Predicted :[2]['virginica']\n",
            "\n",
            " Actual : 1 versicolor, Predicted :[1]['versicolor']\n",
            "\n",
            " Actual : 0 setosa, Predicted :[0]['setosa']\n",
            "\n",
            " Actual : 2 virginica, Predicted :[2]['virginica']\n",
            "\n",
            " Actual : 2 virginica, Predicted :[2]['virginica']\n",
            "\n",
            " Actual : 1 versicolor, Predicted :[1]['versicolor']\n",
            "\n",
            " Actual : 0 setosa, Predicted :[0]['setosa']\n",
            "\n",
            " Actual : 1 versicolor, Predicted :[2]['virginica']\n"
          ],
          "name": "stdout"
        }
      ]
    },
    {
      "cell_type": "code",
      "metadata": {
        "colab": {
          "base_uri": "https://localhost:8080/"
        },
        "id": "jnf6irSeyIqt",
        "outputId": "e69d00cf-c0b3-442c-95de-eb7148cc6057"
      },
      "source": [
        "y_pred=knn.predict(X_test)\n",
        "cm=confusion_matrix(y_test,y_pred) \n",
        "print(\" correct predicition\",accuracy_score(y_test,y_pred))\n",
        "print(\" wrong predicition\",(1-accuracy_score(y_test,y_pred)))"
      ],
      "execution_count": null,
      "outputs": [
        {
          "output_type": "stream",
          "text": [
            " correct predicition 0.9736842105263158\n",
            " wrong predicition 0.02631578947368418\n"
          ],
          "name": "stdout"
        }
      ]
    }
  ]
}